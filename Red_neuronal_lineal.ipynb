{
  "cells": [
    {
      "cell_type": "markdown",
      "metadata": {
        "colab_type": "text",
        "id": "view-in-github"
      },
      "source": [
        "<a href=\"https://colab.research.google.com/github/pauloandradecode/Machine_learnig_python/blob/main/Red_neuronal_lineal.ipynb\" target=\"_parent\"><img src=\"https://colab.research.google.com/assets/colab-badge.svg\" alt=\"Open In Colab\"/></a>"
      ]
    },
    {
      "cell_type": "markdown",
      "metadata": {
        "id": "9IGo1EWBBETW"
      },
      "source": [
        "Proceso de creación de una red neuronal lineal para convertir grados celsius a fahrenheit.-\n",
        "\n",
        "y = mx + b"
      ]
    },
    {
      "cell_type": "code",
      "execution_count": 3,
      "metadata": {},
      "outputs": [
        {
          "name": "stdout",
          "output_type": "stream",
          "text": [
            "\u001b[33m  WARNING: The scripts f2py, f2py3 and f2py3.10 are installed in '/opt/python/3.10.8/bin' which is not on PATH.\n",
            "  Consider adding this directory to PATH or, if you prefer to suppress this warning, use --no-warn-script-location.\u001b[0m\u001b[33m\n",
            "\u001b[0m\u001b[33m  WARNING: The script markdown_py is installed in '/opt/python/3.10.8/bin' which is not on PATH.\n",
            "  Consider adding this directory to PATH or, if you prefer to suppress this warning, use --no-warn-script-location.\u001b[0m\u001b[33m\n",
            "\u001b[0m\u001b[33m  WARNING: The scripts pyrsa-decrypt, pyrsa-encrypt, pyrsa-keygen, pyrsa-priv2pub, pyrsa-sign and pyrsa-verify are installed in '/opt/python/3.10.8/bin' which is not on PATH.\n",
            "  Consider adding this directory to PATH or, if you prefer to suppress this warning, use --no-warn-script-location.\u001b[0m\u001b[33m\n",
            "\u001b[0m\u001b[33m  WARNING: The script google-oauthlib-tool is installed in '/opt/python/3.10.8/bin' which is not on PATH.\n",
            "  Consider adding this directory to PATH or, if you prefer to suppress this warning, use --no-warn-script-location.\u001b[0m\u001b[33m\n",
            "\u001b[0m\u001b[33m  WARNING: The script tensorboard is installed in '/opt/python/3.10.8/bin' which is not on PATH.\n",
            "  Consider adding this directory to PATH or, if you prefer to suppress this warning, use --no-warn-script-location.\u001b[0m\u001b[33m\n",
            "\u001b[0m\u001b[33m  WARNING: The scripts estimator_ckpt_converter, import_pb_to_tensorboard, saved_model_cli, tensorboard, tf_upgrade_v2, tflite_convert, toco and toco_from_protos are installed in '/opt/python/3.10.8/bin' which is not on PATH.\n",
            "  Consider adding this directory to PATH or, if you prefer to suppress this warning, use --no-warn-script-location.\u001b[0m\u001b[33m\n",
            "\u001b[0m"
          ]
        }
      ],
      "source": [
        "!pip install tensorflow -q"
      ]
    },
    {
      "cell_type": "code",
      "execution_count": 4,
      "metadata": {
        "id": "6BpgOswG681Q"
      },
      "outputs": [
        {
          "name": "stderr",
          "output_type": "stream",
          "text": [
            "2023-08-20 01:07:42.358228: I tensorflow/tsl/cuda/cudart_stub.cc:28] Could not find cuda drivers on your machine, GPU will not be used.\n",
            "2023-08-20 01:07:45.590919: I tensorflow/tsl/cuda/cudart_stub.cc:28] Could not find cuda drivers on your machine, GPU will not be used.\n",
            "2023-08-20 01:07:45.617322: I tensorflow/core/platform/cpu_feature_guard.cc:182] This TensorFlow binary is optimized to use available CPU instructions in performance-critical operations.\n",
            "To enable the following instructions: AVX2 AVX512F FMA, in other operations, rebuild TensorFlow with the appropriate compiler flags.\n",
            "2023-08-20 01:07:48.337672: W tensorflow/compiler/tf2tensorrt/utils/py_utils.cc:38] TF-TRT Warning: Could not find TensorRT\n"
          ]
        }
      ],
      "source": [
        "import tensorflow as tf\n",
        "import numpy as np\n",
        "import matplotlib.pyplot as plt"
      ]
    },
    {
      "cell_type": "code",
      "execution_count": 5,
      "metadata": {
        "id": "bcoEMFEz7tS2"
      },
      "outputs": [],
      "source": [
        "# Modelos de datos para entrenamiento\n",
        "celsius = np.array([-40,-10,0,8,15,22,38], dtype=float)\n",
        "fahrenheit = np.array([-40,14,32,46,59,72,100], dtype=float)"
      ]
    },
    {
      "cell_type": "code",
      "execution_count": 6,
      "metadata": {
        "id": "m01ZIpr48GWj"
      },
      "outputs": [],
      "source": [
        "# Utilizamos Keras para simplicar el uso de las capas de la red neuronal\n",
        "# La capa densa son las que tienen conexiones desde cada neurona hacia todas las neuronas de la capa\n",
        "# layer = tf.keras.layers.Dense(units=1, input_shape=[1])\n",
        "# Modelo\n",
        "# model = tf.keras.Sequential([layer]);\n",
        "layer_hide_1 = tf.keras.layers.Dense(units=1, input_shape=[1])\n",
        "layer_hide_2 = tf.keras.layers.Dense(units=1, input_shape=[1])\n",
        "layer_exit = tf.keras.layers.Dense(units=1, input_shape=[1])\n",
        "\n",
        "model = tf.keras.Sequential([layer_hide_1, layer_hide_2, layer_exit]);"
      ]
    },
    {
      "cell_type": "code",
      "execution_count": 7,
      "metadata": {
        "id": "NA3ZFyRB9kwv"
      },
      "outputs": [],
      "source": [
        "# El optimizador Adam nos ayuda para que los pesos y sesgos se calculen de manera eficiente\n",
        "# para asegurarnos que le red aprenda y no desaprenda\n",
        "model.compile(\n",
        "    optimizer = tf.keras.optimizers.Adam(0.1), # 0.1 = tasa de aprendizaje, entre mas pequeña es la tasa, mas tarda en aprender\n",
        "    loss='mean_squared_error' # [función de perdida] Una poca cantidad de errores grandes en peor que una gran cantidad de errores pequeños\n",
        ")\n"
      ]
    },
    {
      "cell_type": "code",
      "execution_count": 8,
      "metadata": {
        "colab": {
          "base_uri": "https://localhost:8080/"
        },
        "id": "n3w4RYPf-x83",
        "outputId": "49a85a4f-7666-4de8-d757-23442c9e9513"
      },
      "outputs": [
        {
          "name": "stdout",
          "output_type": "stream",
          "text": [
            "Comenzando entrenamiento\n",
            "Modelo entrenado\n"
          ]
        }
      ],
      "source": [
        "# Entrenamiento de la red neuronal\n",
        "print('Comenzando entrenamiento')\n",
        "# epochs = numero de vueltas para el entrenamiento\n",
        "# verbose = mostrar en terminal el proceso de entrenamiento\n",
        "history = model.fit(celsius, fahrenheit, epochs=1000, verbose=False)\n",
        "print('Modelo entrenado')"
      ]
    },
    {
      "cell_type": "code",
      "execution_count": 9,
      "metadata": {
        "colab": {
          "base_uri": "https://localhost:8080/",
          "height": 467
        },
        "id": "ozKLj80H_kjU",
        "outputId": "0ae988cd-445e-49ca-8929-79c2feef35d6"
      },
      "outputs": [
        {
          "data": {
            "text/plain": [
              "[<matplotlib.lines.Line2D at 0x7fae146f3be0>]"
            ]
          },
          "execution_count": 9,
          "metadata": {},
          "output_type": "execute_result"
        },
        {
          "data": {
            "image/png": "[encoded data removed]",
            "text/plain": [
              "<Figure size 640x480 with 1 Axes>"
            ]
          },
          "metadata": {},
          "output_type": "display_data"
        }
      ],
      "source": [
        "# Datos de la función de perdida\n",
        "plt.xlabel('# epoca')\n",
        "plt.ylabel('Magnitud de pérdida')\n",
        "plt.plot(history.history['loss'])"
      ]
    },
    {
      "cell_type": "code",
      "execution_count": 10,
      "metadata": {
        "colab": {
          "base_uri": "https://localhost:8080/"
        },
        "id": "Sros2DpWAJil",
        "outputId": "1fe7f531-f820-482d-edbe-6ae7caa4728f"
      },
      "outputs": [
        {
          "name": "stdout",
          "output_type": "stream",
          "text": [
            "1/1 [==============================] - 0s 85ms/step\n",
            "El resultado es: [[211.74744]]fahrenheit\n"
          ]
        }
      ],
      "source": [
        "# Preducción\n",
        "result = model.predict([100.0])\n",
        "print('El resultado es: ' + str(result) + 'fahrenheit')"
      ]
    },
    {
      "cell_type": "code",
      "execution_count": 11,
      "metadata": {
        "colab": {
          "base_uri": "https://localhost:8080/"
        },
        "id": "z4rqug_9Ai60",
        "outputId": "992c204c-8ae6-4f8e-f1a3-295b852c1f50"
      },
      "outputs": [
        {
          "name": "stdout",
          "output_type": "stream",
          "text": [
            "Variables internas del modelo:\n",
            "[array([[0.71955866]], dtype=float32), array([5.7227516], dtype=float32)]\n",
            "[array([[1.3564631]], dtype=float32), array([6.7874036], dtype=float32)]\n",
            "[array([[1.8420576]], dtype=float32), array([5.1503935], dtype=float32)]\n"
          ]
        }
      ],
      "source": [
        "# Sesgo de los valores\n",
        "print('Variables internas del modelo:')\n",
        "# Posición de los valores = Peso - Sesgo\n",
        "# print(layer.get_weights())\n",
        "print(layer_hide_1.get_weights())\n",
        "print(layer_hide_2.get_weights())\n",
        "print(layer_exit.get_weights())"
      ]
    }
  ],
  "metadata": {
    "colab": {
      "authorship_tag": "ABX9TyPfEkujJ4Q/1A3eofvkEMVJ",
      "include_colab_link": true,
      "provenance": []
    },
    "kernelspec": {
      "display_name": "Python 3",
      "name": "python3"
    },
    "language_info": {
      "codemirror_mode": {
        "name": "ipython",
        "version": 3
      },
      "file_extension": ".py",
      "mimetype": "text/x-python",
      "name": "python",
      "nbconvert_exporter": "python",
      "pygments_lexer": "ipython3",
      "version": "3.10.8"
    }
  },
  "nbformat": 4,
  "nbformat_minor": 0
}
