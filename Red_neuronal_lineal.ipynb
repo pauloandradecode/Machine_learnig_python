{
  "nbformat": 4,
  "nbformat_minor": 0,
  "metadata": {
    "colab": {
      "provenance": [],
      "authorship_tag": "ABX9TyPfEkujJ4Q/1A3eofvkEMVJ",
      "include_colab_link": true
    },
    "kernelspec": {
      "name": "python3",
      "display_name": "Python 3"
    },
    "language_info": {
      "name": "python"
    }
  },
  "cells": [
    {
      "cell_type": "markdown",
      "metadata": {
        "id": "view-in-github",
        "colab_type": "text"
      },
      "source": [
        "<a href=\"https://colab.research.google.com/github/pauloandradecode/Machine_learnig_python/blob/main/Red_neuronal_lineal.ipynb\" target=\"_parent\"><img src=\"https://colab.research.google.com/assets/colab-badge.svg\" alt=\"Open In Colab\"/></a>"
      ]
    },
    {
      "cell_type": "markdown",
      "source": [
        "Proceso de creación de una red neuronal lineal para convertir grados celsius a fahrenheit.-\n",
        "\n",
        "y = mx + b"
      ],
      "metadata": {
        "id": "9IGo1EWBBETW"
      }
    },
    {
      "cell_type": "code",
      "execution_count": null,
      "metadata": {
        "id": "6BpgOswG681Q"
      },
      "outputs": [],
      "source": [
        "import tensorflow as tf\n",
        "import numpy as np\n",
        "import matplotlib.pyplot as plt"
      ]
    },
    {
      "cell_type": "code",
      "source": [
        "# Modelos de datos para entrenamiento\n",
        "celsius = np.array([-40,-10,0,8,15,22,38], dtype=float)\n",
        "fahrenheit = np.array([-40,14,32,46,59,72,100], dtype=float)"
      ],
      "metadata": {
        "id": "bcoEMFEz7tS2"
      },
      "execution_count": null,
      "outputs": []
    },
    {
      "cell_type": "code",
      "source": [
        "# Utilizamos Keras para simplicar el uso de las capas de la red neuronal\n",
        "# La capa densa son las que tienen conexiones desde cada neurona hacia todas las neuronas de la capa\n",
        "# layer = tf.keras.layers.Dense(units=1, input_shape=[1])\n",
        "# Modelo\n",
        "# model = tf.keras.Sequential([layer]);\n",
        "layer_hide_1 = tf.keras.layers.Dense(units=1, input_shape=[1])\n",
        "layer_hide_2 = tf.keras.layers.Dense(units=1, input_shape=[1])\n",
        "layer_exit = tf.keras.layers.Dense(units=1, input_shape=[1])\n",
        "\n",
        "model = tf.keras.Sequential([layer_hide_1, layer_hide_2, layer_exit]);"
      ],
      "metadata": {
        "id": "m01ZIpr48GWj"
      },
      "execution_count": null,
      "outputs": []
    },
    {
      "cell_type": "code",
      "source": [
        "# El optimizador Adam nos ayuda para que los pesos y sesgos se calculen de manera eficiente\n",
        "# para asegurarnos que le red aprenda y no desaprenda\n",
        "model.compile(\n",
        "    optimizer = tf.keras.optimizers.Adam(0.1), # 0.1 = tasa de aprendizaje, entre mas pequeña es la tasa, mas tarda en aprender\n",
        "    loss='mean_squared_error' # [función de perdida] Una poca cantidad de errores grandes en peor que una gran cantidad de errores pequeños\n",
        ")\n"
      ],
      "metadata": {
        "id": "NA3ZFyRB9kwv"
      },
      "execution_count": null,
      "outputs": []
    },
    {
      "cell_type": "code",
      "source": [
        "# Entrenamiento de la red neuronal\n",
        "print('Comenzando entrenamiento')\n",
        "# epochs = numero de vueltas para el entrenamiento\n",
        "# verbose = mostrar en terminal el proceso de entrenamiento\n",
        "history = model.fit(celsius, fahrenheit, epochs=1000, verbose=False)\n",
        "print('Modelo entrenado')"
      ],
      "metadata": {
        "colab": {
          "base_uri": "https://localhost:8080/"
        },
        "id": "n3w4RYPf-x83",
        "outputId": "49a85a4f-7666-4de8-d757-23442c9e9513"
      },
      "execution_count": null,
      "outputs": [
        {
          "output_type": "stream",
          "name": "stdout",
          "text": [
            "Comenzando entrenamiento\n",
            "Modelo entrenado\n"
          ]
        }
      ]
    },
    {
      "cell_type": "code",
      "source": [
        "# Datos de la función de perdida\n",
        "plt.xlabel('# epoca')\n",
        "plt.ylabel('Magnitud de pérdida')\n",
        "plt.plot(history.history['loss'])"
      ],
      "metadata": {
        "colab": {
          "base_uri": "https://localhost:8080/",
          "height": 467
        },
        "id": "ozKLj80H_kjU",
        "outputId": "0ae988cd-445e-49ca-8929-79c2feef35d6"
      },
      "execution_count": null,
      "outputs": [
        {
          "output_type": "execute_result",
          "data": {
            "text/plain": [
              "[<matplotlib.lines.Line2D at 0x7f8764361ed0>]"
            ]
          },
          "metadata": {},
          "execution_count": 20
        },
        {
          "output_type": "display_data",
          "data": {
            "text/plain": [
              "<Figure size 640x480 with 1 Axes>"
            ],
            "image/png": "[encoded data removed]"
          },
          "metadata": {}
        }
      ]
    },
    {
      "cell_type": "code",
      "source": [
        "# Preducción\n",
        "result = model.predict([100.0])\n",
        "print('El resultado es: ' + str(result) + 'fahrenheit')"
      ],
      "metadata": {
        "colab": {
          "base_uri": "https://localhost:8080/"
        },
        "id": "Sros2DpWAJil",
        "outputId": "1fe7f531-f820-482d-edbe-6ae7caa4728f"
      },
      "execution_count": null,
      "outputs": [
        {
          "output_type": "stream",
          "name": "stdout",
          "text": [
            "1/1 [==============================] - 0s 112ms/step\n",
            "El resultado es: [[211.74744]]fahrenheit\n"
          ]
        }
      ]
    },
    {
      "cell_type": "code",
      "source": [
        "# Sesgo de los valores\n",
        "print('Variables internas del modelo:')\n",
        "# Posición de los valores = Peso - Sesgo\n",
        "# print(layer.get_weights())\n",
        "print(layer_hide_1.get_weights())\n",
        "print(layer_hide_2.get_weights())\n",
        "print(layer_exit.get_weights())"
      ],
      "metadata": {
        "colab": {
          "base_uri": "https://localhost:8080/"
        },
        "id": "z4rqug_9Ai60",
        "outputId": "992c204c-8ae6-4f8e-f1a3-295b852c1f50"
      },
      "execution_count": null,
      "outputs": [
        {
          "output_type": "stream",
          "name": "stdout",
          "text": [
            "Variables internas del modelo\n",
            "[array([[-0.73677516]], dtype=float32), array([-6.2561717], dtype=float32)]\n",
            "[array([[-1.4747022]], dtype=float32), array([6.2155924], dtype=float32)]\n",
            "[array([[1.6547717]], dtype=float32), array([6.4002314], dtype=float32)]\n"
          ]
        }
      ]
    }
  ]
}